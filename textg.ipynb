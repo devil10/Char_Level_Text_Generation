{
 "cells": [
  {
   "cell_type": "code",
   "execution_count": 50,
   "metadata": {},
   "outputs": [],
   "source": [
    "import torch\n",
    "import torch.nn as nn\n",
    "import torch.nn.functional as F\n",
    "import torch.optim as optim\n",
    "from torch.autograd import Variable \n",
    "import numpy as np\n",
    "import matplotlib.pyplot as plt"
   ]
  },
  {
   "cell_type": "code",
   "execution_count": 51,
   "metadata": {},
   "outputs": [
    {
     "name": "stdout",
     "output_type": "stream",
     "text": [
      "['k', 'A', 'a', \"'\", 'D', 'h', 'l', 'e', 's', 'U', 'f', 'd', 'i', 'W', 'n', 'u', 'T', 'o', 'm', 'S', 'r', 'w', 'g', 'v', 'B', 'b', 'I', 't', ' ', 'N', 'c', 'q', 'y', 'Y', ',', 'L', '\\n', 'p']\n",
      "Vocab_ size  38 , Data_size 1504\n"
     ]
    }
   ],
   "source": [
    "\n",
    "\n",
    "# data I/O\n",
    "data = open('input.txt', 'r').read() # should be simple plain text file\n",
    "\n",
    "chars = list(set(data))\n",
    "print(chars)\n",
    "data_size, vocab_size = len(data), len(chars)\n",
    "print(\"Vocab_ size  {} , Data_size {}\".format(vocab_size,data_size))\n",
    "char_to_ix = { ch:i for i,ch in enumerate(chars) }\n",
    "ix_to_char = { i:ch for i,ch in enumerate(chars) }\n",
    "\n",
    "embedding_dim = 100\n",
    "hidden_dim = 200\n",
    "seq_len = 20\n",
    "epochs = 100\n",
    "itr = data_size//seq_len"
   ]
  },
  {
   "cell_type": "code",
   "execution_count": 52,
   "metadata": {},
   "outputs": [],
   "source": [
    "class Rnn(nn.Module):\n",
    "\n",
    "    def __init__(self, embedding_dim, hidden_dim, vocab_size,seq_len):\n",
    "        super(Rnn, self).__init__()\n",
    "        self.hidden_dim = hidden_dim\n",
    "        self.seq_len = seq_len\n",
    "        self.word_embeddings = nn.Embedding(vocab_size, embedding_dim)\n",
    "        self.LSTM = nn.LSTM(embedding_dim, hidden_dim)\n",
    "        self.linear1 = nn.Linear(hidden_dim, vocab_size)\n",
    "        self.hidden = self.init_hidden()\n",
    "\n",
    "    def init_hidden(self):\n",
    "        return (torch.zeros(1, 1, self.hidden_dim),\n",
    "                torch.zeros(1, 1, self.hidden_dim))\n",
    "\n",
    "    def forward(self, sentence):\n",
    "        embeds = self.word_embeddings(sentence)\n",
    "        rnn_out, self.hidden = self.LSTM(embeds.view(self.seq_len,1,-1),self.hidden)\n",
    "        score  = self.linear1(rnn_out.view(self.seq_len,-1))\n",
    "        score  = score.view(self.seq_len,-1)\n",
    "        return score\n",
    "    \n",
    "    \n",
    "        "
   ]
  },
  {
   "cell_type": "code",
   "execution_count": 53,
   "metadata": {},
   "outputs": [],
   "source": [
    "model = Rnn(embedding_dim,hidden_dim,vocab_size,seq_len)\n",
    "criterion  = nn.CrossEntropyLoss()\n",
    "optimizer = optim.Adam(model.parameters(),lr = 0.001)\n",
    "\n"
   ]
  },
  {
   "cell_type": "code",
   "execution_count": 54,
   "metadata": {},
   "outputs": [
    {
     "name": "stdout",
     "output_type": "stream",
     "text": [
      "loss at epoch 0 =  2.8309935474395753\n",
      "loss at epoch 10 =  0.42233004545172054\n",
      "loss at epoch 20 =  0.10449036900574962\n",
      "loss at epoch 30 =  0.03620398061349988\n",
      "loss at epoch 40 =  0.0358557848756512\n",
      "loss at epoch 50 =  0.018911023746089387\n",
      "loss at epoch 60 =  0.016405480420216917\n",
      "loss at epoch 70 =  0.2355194017663598\n",
      "loss at epoch 80 =  0.017413324792093288\n",
      "loss at epoch 90 =  0.015276167674843842\n"
     ]
    },
    {
     "data": {
      "text/plain": [
       "[<matplotlib.lines.Line2D at 0x7fb8a14693c8>]"
      ]
     },
     "execution_count": 54,
     "metadata": {},
     "output_type": "execute_result"
    },
    {
     "data": {
      "image/png": "[encoded data removed]",
      "text/plain": [
       "<Figure size 432x288 with 1 Axes>"
      ]
     },
     "metadata": {},
     "output_type": "display_data"
    }
   ],
   "source": [
    "x = []\n",
    "y = []\n",
    "for i in range(epochs):\n",
    "    smooth_loss = 0.0\n",
    "    x.append(i)\n",
    "    for k in range(itr):\n",
    "        inputs = torch.LongTensor(1,seq_len)\n",
    "        target = torch.LongTensor(seq_len)\n",
    "        (hidden1,hidden2) = model.hidden\n",
    "        model.hidden = (hidden1.detach(),hidden2.detach())\n",
    "        for j in range(seq_len):\n",
    "            inputs[0][j] = char_to_ix[data[k*seq_len+j]]\n",
    "            target[j] = char_to_ix[data[k*seq_len+j+1]]\n",
    "        inputs = Variable(inputs)\n",
    "        target = Variable(target)\n",
    "        optimizer.zero_grad()\n",
    "        score = model.forward(inputs)\n",
    "        \n",
    "        losss = criterion(score, target)\n",
    "        losss.backward()\n",
    "        optimizer.step()\n",
    "        smooth_loss=smooth_loss+losss.detach().numpy()\n",
    "    if(i%10 == 0):\n",
    "        print(\"loss at epoch {} =  {}\".format(i,smooth_loss/itr))\n",
    "    y.append(smooth_loss/itr)\n",
    "plt.plot(x,y)\n",
    "            \n",
    "    "
   ]
  },
  {
   "cell_type": "code",
   "execution_count": null,
   "metadata": {},
   "outputs": [],
   "source": []
  },
  {
   "cell_type": "code",
   "execution_count": 55,
   "metadata": {},
   "outputs": [],
   "source": [
    "def sample(sample_len,start):\n",
    "    gen_txt = \"\"\n",
    "    model.seq_len = 1\n",
    "    inp = torch.LongTensor([[char_to_ix[data[start]]]])\n",
    "    for i in range(sample_len):\n",
    "        score = model.forward(inp)\n",
    "        y = score.detach().numpy()\n",
    "        p = np.exp(y) / np.sum(np.exp(y))\n",
    "        ind = np.random.choice(range(vocab_size), p=p.ravel())\n",
    "        #ind = np.argmax(score.detach().numpy())\n",
    "        #print(score.detach().numpy())\n",
    "        gen_txt+=ix_to_char[ind]\n",
    "        inp = torch.LongTensor([[ind]])\n",
    "    print(gen_txt)\n",
    "         \n",
    "\n",
    "\n"
   ]
  },
  {
   "cell_type": "code",
   "execution_count": 56,
   "metadata": {
    "scrolled": true
   },
   "outputs": [
    {
     "name": "stdout",
     "output_type": "stream",
     "text": [
      "et you soul\n",
      "And the saints we see\n",
      "Are all made of gold\n",
      "\n",
      "When your dreams all fail\n",
      "And the ones we hail\n",
      "Are the worst of all\n",
      "And the blood's run stale\n",
      "\n",
      "I wanna hide the truth\n",
      "\n",
      "No matter what we breed\n",
      "We still are made of greed\n",
      "This is my kingdom come\n",
      "This is my kingdom come\n",
      "This is my kingdom come\n",
      "This is my kingdom come\n",
      "This is my kingdom come\n",
      "This is my kingdom come\n",
      "\n",
      "When you feel my heat\n",
      "Look into my eyes\n",
      "It's where my demons hide\n",
      "It's where my demons hide\n",
      "It's where my demons hide\n",
      "\n",
      "They say it's what you make\n",
      "I say it's up to fate\n",
      "It's woven in my soul\n",
      "I need to let you go\n",
      "\n",
      "Your eyes, they shine so bright\n",
      "I wanna save that light\n",
      "I can't escape this now\n",
      "Unless you show me how\n",
      "\n",
      "When you feel my heat\n",
      "Look into my eyes\n",
      "It's where my demons hide\n",
      "It's where my demons hide\n",
      "It's where my demons hide\n",
      "It's where my demons hide\n",
      "Don't get too close\n",
      "It's dark inside\n",
      "It's where my demons hide\n",
      "Don't get too close\n",
      "It's dark inside\n",
      "It's where my demons hide\n",
      "It's where my demons hide\n",
      "\n",
      "They say it's w\n"
     ]
    }
   ],
   "source": [
    "sample(1000,1)\n"
   ]
  },
  {
   "cell_type": "code",
   "execution_count": null,
   "metadata": {},
   "outputs": [],
   "source": []
  },
  {
   "cell_type": "code",
   "execution_count": null,
   "metadata": {},
   "outputs": [],
   "source": []
  },
  {
   "cell_type": "code",
   "execution_count": null,
   "metadata": {},
   "outputs": [],
   "source": []
  },
  {
   "cell_type": "code",
   "execution_count": null,
   "metadata": {},
   "outputs": [],
   "source": []
  }
 ],
 "metadata": {
  "kernelspec": {
   "display_name": "Python 3",
   "language": "python",
   "name": "python3"
  },
  "language_info": {
   "codemirror_mode": {
    "name": "ipython",
    "version": 3
   },
   "file_extension": ".py",
   "mimetype": "text/x-python",
   "name": "python",
   "nbconvert_exporter": "python",
   "pygments_lexer": "ipython3",
   "version": "3.6.5"
  }
 },
 "nbformat": 4,
 "nbformat_minor": 2
}
